{
 "cells": [
  {
   "cell_type": "markdown",
   "id": "35ab9a50",
   "metadata": {},
   "source": [
    "# <center> VAI Store - Análise Exploratória de Dados </center>\n",
    "\n",
    "---\n",
    "\n",
    "Nesse jupyter notebook iremos analisar os dados de produtos e vendas da VAI Store"
   ]
  },
  {
   "cell_type": "markdown",
   "id": "e7c89924",
   "metadata": {},
   "source": [
    "## 1. Imports"
   ]
  },
  {
   "cell_type": "code",
   "execution_count": null,
   "id": "9cb83475",
   "metadata": {},
   "outputs": [],
   "source": [
    "import pandas as pd\n",
    "import matplotlib.pyplot as plt\n",
    "import seaborn as sns\n",
    "import matplotlib.ticker as ticker"
   ]
  },
  {
   "cell_type": "markdown",
   "id": "b3d87af5",
   "metadata": {},
   "source": [
    "## 2. Dataset"
   ]
  },
  {
   "cell_type": "code",
   "execution_count": null,
   "id": "32be945a",
   "metadata": {},
   "outputs": [],
   "source": [
    "produtos = pd.read_csv('../data/raw/produto.csv', index_col = 0)\n",
    "\n",
    "# Leitura dos dados\n",
    "produtos.info()\n",
    "produtos.head()"
   ]
  },
  {
   "cell_type": "markdown",
   "id": "04c1bb61",
   "metadata": {},
   "source": [
    "Sumário das colunas:\n",
    "* SKU = Código do produto \n",
    "* NOME_PRODUTO = Descrição do produto \n",
    "* CATEGORIA = Categoria do produto \n",
    "* SUBCATEGORIA = Subcategoria do produto"
   ]
  },
  {
   "cell_type": "code",
   "execution_count": null,
   "id": "49b82c84",
   "metadata": {},
   "outputs": [],
   "source": [
    "vendas = pd.read_csv('../data/raw/vendas.csv', index_col = 0)\n",
    "\n",
    "# Leitura dos dados\n",
    "vendas.info()\n",
    "vendas.head()"
   ]
  },
  {
   "cell_type": "markdown",
   "id": "7be3171c",
   "metadata": {},
   "source": [
    "Sumário das colunas:\n",
    "* COD_ATEND = Código identificador do atendimento \n",
    "* COD_VENDA = Código identificador da venda \n",
    "* COD_FILIAL = Indica em qual loja foi feito o atendimento \n",
    "* FILIAL = Tipo de filial (Loja de Rua ou de Shopping) \n",
    "* DATA_ATEND = Data de atendimento daquele cliente a respeito daquele produto \n",
    "* SKU = Código do produto \n",
    "* UNID = Indica tipo do produto (granel ou prateleira) \n",
    "* QTD_VENDA = Quantidade vendida do produto \n",
    "* FATUR_VENDA  = Faturamento \n",
    "* CLI_CPF = Código do cliente"
   ]
  },
  {
   "cell_type": "code",
   "execution_count": null,
   "id": "582b0872",
   "metadata": {},
   "outputs": [],
   "source": [
    "produtos.shape"
   ]
  },
  {
   "cell_type": "markdown",
   "id": "e5003c01",
   "metadata": {},
   "source": [
    "## 3. Tratamento"
   ]
  },
  {
   "cell_type": "markdown",
   "id": "0fe53e2d",
   "metadata": {},
   "source": [
    "### 3.1. Conversão de tipos de dados"
   ]
  },
  {
   "cell_type": "code",
   "execution_count": null,
   "id": "c27ae896",
   "metadata": {},
   "outputs": [],
   "source": [
    "# Conversão de COD_FILIAL e SKU para 'object'\n",
    "vendas['COD_FILIAL'] = vendas['COD_FILIAL'].astype('object')\n",
    "vendas['SKU'] = vendas['SKU'].astype('object')\n",
    "\n",
    "# Conversão de DATA_ATEND para 'date'\n",
    "vendas['DATA_ATEND'] = pd.to_datetime(vendas['DATA_ATEND'])"
   ]
  },
  {
   "cell_type": "code",
   "execution_count": null,
   "id": "d419b93c",
   "metadata": {},
   "outputs": [],
   "source": [
    "vendas.info()"
   ]
  },
  {
   "cell_type": "markdown",
   "id": "b7599ed0",
   "metadata": {},
   "source": [
    "### 3.2. Tratamento de valores ausentes"
   ]
  },
  {
   "cell_type": "code",
   "execution_count": null,
   "id": "8c1e2cd3",
   "metadata": {},
   "outputs": [],
   "source": [
    "vendas.isna().sum()"
   ]
  },
  {
   "cell_type": "code",
   "execution_count": null,
   "id": "edb26ab9",
   "metadata": {},
   "outputs": [],
   "source": [
    "produtos.isna().sum()"
   ]
  },
  {
   "cell_type": "markdown",
   "id": "5028f9f3",
   "metadata": {},
   "source": [
    "Observa-se que, no dataset de **produtos**, há a presença de valores nulos em todas as colunas. Sendo assim, vamos analisar caso a caso."
   ]
  },
  {
   "cell_type": "markdown",
   "id": "a7f52e7f",
   "metadata": {},
   "source": [
    "#### 3.2.1. CATEGORIA e SUBCATEGORIA\n",
    "\n",
    "Para essas colunas categóricas, vamos substituir os valores ausentes por um novo tipo: **'Sem categoria'** e **'Sem subcategoria'**."
   ]
  },
  {
   "cell_type": "code",
   "execution_count": null,
   "id": "cab21ef5",
   "metadata": {},
   "outputs": [],
   "source": [
    "produtos['CATEGORIA'] = produtos['CATEGORIA'].fillna('Sem categoria')\n",
    "produtos['SUBCATEGORIA'] = produtos['SUBCATEGORIA'].fillna('Sem subcategoria')"
   ]
  },
  {
   "cell_type": "markdown",
   "id": "3d861b4f",
   "metadata": {},
   "source": [
    "#### 3.2.2. NOME_PRODUTO"
   ]
  },
  {
   "cell_type": "code",
   "execution_count": null,
   "id": "261a503e",
   "metadata": {},
   "outputs": [],
   "source": [
    "produtos[produtos['NOME_PRODUTO'].isna()]"
   ]
  },
  {
   "cell_type": "markdown",
   "id": "52f9bd24",
   "metadata": {},
   "source": [
    "Nesse caso, a linha é constituída apenas de valores nulos e, além disso, não há a possibilidade desse produto ter um relacionamento com alguma venda. Sendo assim, vamos simplesmente **remover** essa observação."
   ]
  },
  {
   "cell_type": "code",
   "execution_count": null,
   "id": "64688f7f",
   "metadata": {},
   "outputs": [],
   "source": [
    "produtos.dropna(inplace=True)"
   ]
  },
  {
   "cell_type": "code",
   "execution_count": null,
   "id": "af736da3",
   "metadata": {},
   "outputs": [],
   "source": [
    "# Quantidade de valores nulos pós tratamento\n",
    "produtos.isna().sum()"
   ]
  },
  {
   "cell_type": "markdown",
   "id": "8177a94e",
   "metadata": {},
   "source": [
    "## 4. EDA"
   ]
  },
  {
   "cell_type": "markdown",
   "id": "35392eb1",
   "metadata": {},
   "source": [
    "### 4.1. Análise do catálogo de produtos\n",
    "\n",
    "Agora vamos entender quais as **principais categorias de produtos** vendidos pela VAI Store"
   ]
  },
  {
   "cell_type": "code",
   "execution_count": null,
   "id": "7907f62f",
   "metadata": {},
   "outputs": [],
   "source": [
    "#Configuração inicial\n",
    "sns.set_style(\"whitegrid\")\n",
    "\n",
    "# Remover produtos que não possuem categoria (valores NaN)\n",
    "produtos_clean_categoria = produtos.dropna(subset=['CATEGORIA'])\n",
    "\n",
    "print(f\"Total de produtos no catálogo: {len(produtos)}\")\n",
    "print(f\"Total de produtos com categoria definida: {len(produtos_clean_categoria)}\")\n",
    "\n",
    "#Cálculo de Percentuais \n",
    "# 1. Contar a frequência de cada categoria e calcular o percentual (normalize=True)\n",
    "#    Isso usa o total de df_produtos_clean como denominador.\n",
    "# 2. Selecionar o Top 10\n",
    "top_10_cat = produtos_clean_categoria['CATEGORIA'].value_counts(normalize=True).head(10)\n",
    "\n",
    "# 3. Converter a Series para um DataFrame\n",
    "top_10_df = top_10_cat.reset_index()\n",
    "\n",
    "# 4. Renomear as colunas\n",
    "top_10_df.columns = ['CATEGORIA', 'PERCENTUAL']\n",
    "\n",
    "# 5. Converter o percentual de (0.0 a 1.0) para (0 a 100) para exibição\n",
    "top_10_df['PERCENTUAL'] = top_10_df['PERCENTUAL'] * 100\n",
    "\n",
    "print(top_10_df)\n",
    "\n",
    "#Geração do Gráfico\n",
    "# 1. Criar a figura (figsize(largura, altura))\n",
    "plt.figure(figsize=(12, 8))\n",
    "\n",
    "# 2. Criar o gráfico de barras\n",
    "#    Os dados já estão ordenados por 'value_counts'\n",
    "ax = sns.barplot(\n",
    "    data=top_10_df,\n",
    "    x='CATEGORIA',\n",
    "    y='PERCENTUAL',\n",
    "    palette='Spectral' # Paleta de cores\n",
    ")\n",
    "\n",
    "# 3. Adicionar títulos e rótulos\n",
    "ax.set_title('Top 10 Categorias de Produtos (Percentual do Total Definido)', fontsize=16)\n",
    "ax.set_xlabel('Categoria', fontsize=12)\n",
    "ax.set_ylabel('Percentual do Total (%)', fontsize=12)\n",
    "\n",
    "# 4. Formatar o eixo Y para exibir o símbolo de '%'\n",
    "#    Usamos FuncFormatter pois os dados já estão na escala 0-100\n",
    "ax.yaxis.set_major_formatter(ticker.FuncFormatter(lambda y, _: f'{y:.1f}%'))\n",
    "\n",
    "# 5. Adicionar os rótulos de dados (percentuais) acima das barras\n",
    "for p in ax.patches:\n",
    "    ax.annotate(f'{p.get_height():.1f}%',  # Formato do texto (1 casa decimal)\n",
    "                   (p.get_x() + p.get_width() / 2., p.get_height()), # Posição (x, y)\n",
    "                   ha = 'center', va = 'center', # Alinhamento\n",
    "                   xytext = (0, 9), # Deslocamento vertical de 9 pontos\n",
    "                   textcoords = 'offset points',\n",
    "                   fontsize=10)\n",
    "\n",
    "# 6. Rotacionar os rótulos do eixo X (categorias) para evitar sobreposição\n",
    "plt.xticks(rotation=45, ha='right')\n",
    "\n",
    "# 7. Ajustar o layout para garantir que os rótulos não sejam cortados\n",
    "plt.tight_layout()\n",
    "\n",
    "# 8. Salvar e exibir o gráfico\n",
    "plt.savefig('../graphics/top_10_categorias.png') # Salva a imagem\n",
    "plt.show() # Exibe no notebook\n",
    "plt.close() # Fecha a figura atual"
   ]
  },
  {
   "cell_type": "markdown",
   "id": "8d8f5693",
   "metadata": {},
   "source": [
    "Após conhecer as principais categorias de produtos vamos analisar as **principais subcategorias**"
   ]
  },
  {
   "cell_type": "code",
   "execution_count": null,
   "id": "aff5e7ec",
   "metadata": {},
   "outputs": [],
   "source": [
    "#Configuração inicial\n",
    "sns.set_style(\"whitegrid\")\n",
    "\n",
    "# Remover produtos que não possuem categoria (valores NaN)\n",
    "produtos_clean_subcategoria = produtos.dropna(subset=['SUBCATEGORIA'])\n",
    "\n",
    "print(f\"Total de produtos no catálogo: {len(produtos)}\")\n",
    "print(f\"Total de produtos com subcategoria definida: {len(produtos_clean_subcategoria)}\")\n",
    "\n",
    "#Cálculo de Percentuais \n",
    "# 1. Contar a frequência de cada categoria e calcular o percentual (normalize=True)\n",
    "#    Isso usa o total de df_produtos_clean como denominador.\n",
    "# 2. Selecionar o Top 10\n",
    "top_10_cat = produtos_clean_subcategoria['SUBCATEGORIA'].value_counts(normalize=True).head(10)\n",
    "\n",
    "# 3. Converter a Series para um DataFrame\n",
    "top_10_df = top_10_cat.reset_index()\n",
    "\n",
    "# 4. Renomear as colunas\n",
    "top_10_df.columns = ['SUBCATEGORIA', 'PERCENTUAL']\n",
    "\n",
    "# 5. Converter o percentual de (0.0 a 1.0) para (0 a 100) para exibição\n",
    "top_10_df['PERCENTUAL'] = top_10_df['PERCENTUAL'] * 100\n",
    "\n",
    "print(top_10_df)\n",
    "\n",
    "#Geração do Gráfico\n",
    "# 1. Criar a figura (figsize(largura, altura))\n",
    "plt.figure(figsize=(12, 8))\n",
    "\n",
    "# 2. Criar o gráfico de barras\n",
    "#    Os dados já estão ordenados por 'value_counts'\n",
    "ax = sns.barplot(\n",
    "    data=top_10_df,\n",
    "    x='SUBCATEGORIA',\n",
    "    y='PERCENTUAL',\n",
    "    palette='Spectral' # Paleta de cores\n",
    ")\n",
    "\n",
    "# 3. Adicionar títulos e rótulos\n",
    "ax.set_title('Top 10 Subcategorias de Produtos (Percentual do Total Definido)', fontsize=16)\n",
    "ax.set_xlabel('Subcategoria', fontsize=12)\n",
    "ax.set_ylabel('Percentual do Total (%)', fontsize=12)\n",
    "\n",
    "# 4. Formatar o eixo Y para exibir o símbolo de '%'\n",
    "#    Usamos FuncFormatter pois os dados já estão na escala 0-100\n",
    "ax.yaxis.set_major_formatter(ticker.FuncFormatter(lambda y, _: f'{y:.1f}%'))\n",
    "\n",
    "# 5. Adicionar os rótulos de dados (percentuais) acima das barras\n",
    "for p in ax.patches:\n",
    "    ax.annotate(f'{p.get_height():.1f}%',  # Formato do texto (1 casa decimal)\n",
    "                   (p.get_x() + p.get_width() / 2., p.get_height()), # Posição (x, y)\n",
    "                   ha = 'center', va = 'center', # Alinhamento\n",
    "                   xytext = (0, 9), # Deslocamento vertical de 9 pontos\n",
    "                   textcoords = 'offset points',\n",
    "                   fontsize=10)\n",
    "\n",
    "# 6. Rotacionar os rótulos do eixo X (categorias) para evitar sobreposição\n",
    "plt.xticks(rotation=45, ha='right')\n",
    "\n",
    "# 7. Ajustar o layout para garantir que os rótulos não sejam cortados\n",
    "plt.tight_layout()\n",
    "\n",
    "# 8. Salvar e exibir o gráfico\n",
    "plt.savefig('../graphics/top_10_subcategorias.png') # Salva a imagem\n",
    "plt.show() # Exibe no notebook\n",
    "plt.close() # Fecha a figura atual"
   ]
  },
  {
   "cell_type": "markdown",
   "id": "ddd3a925",
   "metadata": {},
   "source": [
    "Diante as informações acima podemos entender como o pool de produtos da VAI Store está estruturado atualmente"
   ]
  },
  {
   "cell_type": "markdown",
   "id": "f1220963",
   "metadata": {},
   "source": [
    "### 4.2. Análise do desempenho de vendas por filial\n",
    "\n",
    "Agora vamos fazer a análise exploratória dos dados para as **vendas**. Podemos começar entendendo o faturamento de cada filial ao longo do ano"
   ]
  },
  {
   "cell_type": "code",
   "execution_count": null,
   "id": "4fef675c",
   "metadata": {},
   "outputs": [],
   "source": [
    "#1. Agrupamento dos Dados\n",
    "# Agrupa diretamente por 'FILIAL' e soma o 'FATUR_VENDA'.\n",
    "# Como sabemos que os dados são todos de 2024, este é o faturamento \"anual\".\n",
    "df_faturamento_filial = vendas.groupby('FILIAL')['FATUR_VENDA'].sum().reset_index()\n",
    "\n",
    "print(\"\\n--- Faturamento Total Agrupado por Filial ---\")\n",
    "print(df_faturamento_filial)\n",
    "\n",
    "#2. Geração do Gráfico\n",
    "\n",
    "# Cria a figura\n",
    "plt.figure(figsize=(9, 6))\n",
    "\n",
    "# Cria o gráfico de barras\n",
    "ax = sns.barplot(\n",
    "    data=df_faturamento_filial,\n",
    "    x='FILIAL',\n",
    "    y='FATUR_VENDA',\n",
    "    palette='muted'\n",
    ")\n",
    "\n",
    "# 3. Formatação e Rótulos\n",
    "\n",
    "# Define o título\n",
    "ax.set_title('Faturamento Total por Filial (Ano 2024)', fontsize=16)\n",
    "ax.set_xlabel('Tipo de Filial', fontsize=12)\n",
    "ax.set_ylabel('Faturamento Total (R$)', fontsize=12)\n",
    "\n",
    "# Formata o eixo Y para moeda (R$)\n",
    "formatter_currency = ticker.FuncFormatter(lambda x, p: f'R$ {x:,.0f}')\n",
    "ax.yaxis.set_major_formatter(formatter_currency)\n",
    "\n",
    "# Adiciona os rótulos de dados (valores) sobre as barras\n",
    "for p in ax.patches:\n",
    "    ax.annotate(f'R$ {p.get_height():,.0f}',\n",
    "                   (p.get_x() + p.get_width() / 2., p.get_height()),\n",
    "                   ha = 'center', va = 'center',\n",
    "                   xytext = (0, 9),\n",
    "                   textcoords = 'offset points',\n",
    "                   fontsize=10)\n",
    "\n",
    "# --- 6. Salvamento ---\n",
    "plt.tight_layout() # Ajusta layout\n",
    "plt.savefig(\"../graphics/faturamento_anual_por_filial.png\") # Salva o gráfico\n",
    "plt.show() # Exibe no notebook\n",
    "plt.close() # Fecha a figura"
   ]
  },
  {
   "cell_type": "markdown",
   "id": "a0b54e2d",
   "metadata": {},
   "source": [
    "Fica perceptível que há uma diferença de faturamento entre as filiais, então vamos destrinchar essa receita um pouco mais"
   ]
  },
  {
   "cell_type": "code",
   "execution_count": null,
   "id": "dc1babfa",
   "metadata": {},
   "outputs": [],
   "source": [
    "#1. Preparação dos Dados\n",
    "# Converte 'DATA_ATEND' para datetime (necessário para extrair o mês)\n",
    "# Se você já fez isso em outra célula, pode pular esta linha\n",
    "vendas['DATA_ATEND'] = pd.to_datetime(vendas['DATA_ATEND'])\n",
    "\n",
    "# Extrai o número do mês\n",
    "vendas['MES_NUM'] = vendas['DATA_ATEND'].dt.month\n",
    "\n",
    "#2. Agrupamento dos Dados\n",
    "# Agrupa por Mês (número) e Filial, somando o faturamento\n",
    "df_mes_filial = vendas.groupby(['MES_NUM', 'FILIAL'])['FATUR_VENDA'].sum().reset_index()\n",
    "\n",
    "#3. Mapeamento de Meses\n",
    "# Cria um mapa de número do mês para nome\n",
    "mes_map = {\n",
    "    1: 'Jan', 2: 'Fev', 3: 'Mar', 4: 'Abr',\n",
    "    5: 'Mai', 6: 'Jun', 7: 'Jul', 8: 'Ago',\n",
    "    9: 'Set', 10: 'Out', 11: 'Nov', 12: 'Dez'\n",
    "}\n",
    "\n",
    "# Cria uma coluna com os nomes dos meses\n",
    "df_mes_filial['MES_NOME'] = df_mes_filial['MES_NUM'].map(mes_map)\n",
    "\n",
    "# Cria uma lista ordenada dos nomes dos meses para usar no gráfico\n",
    "meses_ordenados = list(mes_map.values())\n",
    "\n",
    "#4. Geração do Gráfico\n",
    "# Define o tamanho da figura (mais larga para caber os 12 meses)\n",
    "plt.figure(figsize=(14, 7))\n",
    "\n",
    "# Cria o gráfico de barras agrupado\n",
    "ax = sns.barplot(\n",
    "    data=df_mes_filial,\n",
    "    x='MES_NOME',       # Nomes dos meses no eixo X\n",
    "    y='FATUR_VENDA',    # Faturamento no eixo Y\n",
    "    hue='FILIAL',       # Agrupar cores por Filial\n",
    "    order=meses_ordenados, # Garante a ordem correta (Jan, Fev, Mar...)\n",
    "    palette='muted'\n",
    ")\n",
    "\n",
    "#5. Formatação e Rótulos\n",
    "\n",
    "# Define o título\n",
    "ax.set_title('Faturamento Mensal por Filial (2024)', fontsize=16)\n",
    "ax.set_xlabel('Mês', fontsize=12)\n",
    "ax.set_ylabel('Faturamento (R$)', fontsize=12)\n",
    "\n",
    "# Formata o eixo Y para R$ K (Milhares)\n",
    "formatter = ticker.FuncFormatter(lambda x, p: f'R$ {x/1000:.0f}K')\n",
    "ax.yaxis.set_major_formatter(formatter)\n",
    "\n",
    "# Ajusta a legenda\n",
    "ax.legend(title='Filial', loc='upper left')\n",
    "\n",
    "#6. Salvamento \n",
    "plt.tight_layout()\n",
    "plt.savefig('../graphics/faturamento_mensal_agrupado.png')\n",
    "plt.show()\n",
    "plt.close()"
   ]
  },
  {
   "cell_type": "markdown",
   "id": "90c74703",
   "metadata": {},
   "source": [
    "Será que a diferença do faturamento mensal está diretaamente ligada ao ticket médio de cada loja?"
   ]
  },
  {
   "cell_type": "code",
   "execution_count": null,
   "id": "c9e24757",
   "metadata": {},
   "outputs": [],
   "source": [
    "#1. Cálculo - Faturamento\n",
    "df_mes_filial = vendas.groupby(['MES_NUM', 'FILIAL'])['FATUR_VENDA'].sum().reset_index()\n",
    "\n",
    "#2. Cálculo - Ticket Médio (Gráfico de Linhas)\n",
    "df_agregado_tm = vendas.groupby(['MES_NUM', 'FILIAL']).agg(\n",
    "    FATUR_TOTAL=('FATUR_VENDA', 'sum'),\n",
    "    CLIENTES_UNICOS=('CLI_CPF', 'nunique')\n",
    ").reset_index()\n",
    "df_agregado_tm['TICKET_MEDIO'] = df_agregado_tm['FATUR_TOTAL'] / df_agregado_tm['CLIENTES_UNICOS']\n",
    "\n",
    "#3. Mapeamento e Ordenação de Meses\n",
    "mes_map = {\n",
    "    1: 'Jan', 2: 'Fev', 3: 'Mar', 4: 'Abr',\n",
    "    5: 'Mai', 6: 'Jun', 7: 'Jul', 8: 'Ago',\n",
    "    9: 'Set', 10: 'Out', 11: 'Nov', 12: 'Dez'\n",
    "}\n",
    "meses_ordenados = list(mes_map.values())\n",
    "df_mes_filial['MES_NOME'] = df_mes_filial['MES_NUM'].map(mes_map)\n",
    "df_agregado_tm['MES_NOME'] = df_agregado_tm['MES_NUM'].map(mes_map)\n",
    "df_agregado_tm = df_agregado_tm.sort_values(by='MES_NUM')\n",
    "df_tm_rua = df_agregado_tm[df_agregado_tm['FILIAL'] == 'RUA']\n",
    "df_tm_shopping = df_agregado_tm[df_agregado_tm['FILIAL'] == 'SHOPPING']\n",
    "\n",
    "#4. Geração do Gráfico Combinado\n",
    "palette_colors = sns.color_palette('muted')\n",
    "color_rua = palette_colors[0]\n",
    "color_shopping = palette_colors[1]\n",
    "fig, ax = plt.subplots(figsize=(15, 8)) \n",
    "\n",
    "#Plotagem Gráfico de Barras (Eixo Esquerdo)\n",
    "sns.barplot(\n",
    "    data=df_mes_filial,\n",
    "    x='MES_NOME',\n",
    "    y='FATUR_VENDA',\n",
    "    hue='FILIAL',\n",
    "    order=meses_ordenados,\n",
    "    palette='muted',\n",
    "    ax=ax\n",
    ")\n",
    "\n",
    "# Formatação Eixo Esquerdo (Faturamento)\n",
    "ax.set_title('Faturamento Mensal e Ticket Médio por Filial (2024)', fontsize=18)\n",
    "ax.set_xlabel('Mês', fontsize=12)\n",
    "ax.set_ylabel('Faturamento (R$)', fontsize=12, color='gray')\n",
    "formatter_k = ticker.FuncFormatter(lambda x, p: f'R$ {x/1000:.0f}K')\n",
    "ax.yaxis.set_major_formatter(formatter_k)\n",
    "ax.tick_params(axis='y', labelcolor='gray')\n",
    "\n",
    "#Plotagem Gráfico de Linhas (Eixo Direito)\n",
    "ax2 = ax.twinx()\n",
    "ax2.plot(df_tm_rua['MES_NOME'], df_tm_rua['TICKET_MEDIO'], \n",
    "         color=color_rua, \n",
    "         marker='o', \n",
    "         linestyle='--', \n",
    "         linewidth=2,\n",
    "         label='Ticket Médio RUA')\n",
    "ax2.plot(df_tm_shopping['MES_NOME'], df_tm_shopping['TICKET_MEDIO'], \n",
    "         color=color_shopping, \n",
    "         marker='s', \n",
    "         linestyle='--', \n",
    "         linewidth=2,\n",
    "         label='Ticket Médio SHOPPING')\n",
    "\n",
    "# Formatação Eixo Direito (Ticket Médio)\n",
    "ax2.set_ylabel('Ticket Médio (R$)', fontsize=12, color=palette_colors[2]) \n",
    "formatter_tm = ticker.FuncFormatter(lambda x, p: f'R$ {x:.2f}')\n",
    "ax2.yaxis.set_major_formatter(formatter_tm)\n",
    "ax2.tick_params(axis='y', labelcolor=palette_colors[2])\n",
    "ax2.grid(False) \n",
    "\n",
    "#5. Adicionar Rótulos (Caixas) ao Gráfico de Linhas\n",
    "\n",
    "# Define um offset vertical para afastar os rótulos do ponto\n",
    "vertical_offset = 1\n",
    "\n",
    "# Rótulos para RUA (posicionados ACIMA do ponto)\n",
    "for _, row in df_tm_rua.iterrows():\n",
    "    ax2.text(row['MES_NOME'], row['TICKET_MEDIO'] + vertical_offset, # Offset POSITIVO\n",
    "             f\"R$ {row['TICKET_MEDIO']:.2f}\", \n",
    "             color='white', \n",
    "             fontsize=8, \n",
    "             fontweight='bold',\n",
    "             ha='center', \n",
    "             va='bottom', # Ancora na base do texto\n",
    "             bbox=dict(boxstyle='round,pad=0.3', fc=color_rua, ec='none', alpha=0.8))\n",
    "\n",
    "# Rótulos para SHOPPING (posicionados ABAIXO do ponto)\n",
    "for _, row in df_tm_shopping.iterrows():\n",
    "    ax2.text(row['MES_NOME'], row['TICKET_MEDIO'] - vertical_offset, # Offset NEGATIVO\n",
    "             f\"R$ {row['TICKET_MEDIO']:.2f}\", \n",
    "             color='white', \n",
    "             fontsize=8, \n",
    "             fontweight='bold',\n",
    "             ha='center', \n",
    "             va='top', # Ancora no topo do texto\n",
    "             bbox=dict(boxstyle='round,pad=0.3', fc=color_shopping, ec='none', alpha=0.8))\n",
    "\n",
    "\n",
    "#6. Salvamento e Legenda Combinada\n",
    "\n",
    "# Pega os 'handles' (os ícones) e 'labels' (os textos) de cada eixo\n",
    "h1, l1 = ax.get_legend_handles_labels()\n",
    "h2, l2 = ax2.get_legend_handles_labels()\n",
    "\n",
    "# Renomeia os labels das barras para clareza\n",
    "l1 = ['Faturamento RUA', 'Faturamento SHOPPING']\n",
    "\n",
    "# Cria uma legenda única combinando as duas\n",
    "ax.legend(h1 + h2, l1 + l2, \n",
    "          title='Legenda', \n",
    "          loc='upper left', \n",
    "          bbox_to_anchor=(1.05, 1), # Posição fora do gráfico\n",
    "          fontsize=10)\n",
    "\n",
    "\n",
    "# Ajusta o layout para caber a legenda (rect=[left, bottom, right, top])\n",
    "fig.tight_layout(rect=[0, 0, 0.85, 1]) \n",
    "save_path = '../graphics/faturamento_e_ticket_medio_mensal.png'\n",
    "plt.savefig(save_path)\n",
    "plt.show()\n",
    "plt.close(fig)"
   ]
  },
  {
   "cell_type": "markdown",
   "id": "d526eef4",
   "metadata": {},
   "source": [
    "Podemos ver no gráfico acima que o faturamento da loja está correlacionado ao ticket médio dela e que o faturameto de março, novembro e dezembro foram os fatores motores para discrepância de faturamento anual entre a loja localizada na rua e a localizada no shopping. Podemos agora ver se nesses meses a loja do shopping recebeu mais clientes únicos do que a da rua"
   ]
  },
  {
   "cell_type": "code",
   "execution_count": null,
   "id": "10a66cb4",
   "metadata": {},
   "outputs": [],
   "source": [
    "#1. Agrupamento dos Dados\n",
    "# Agrupa por Mês (número) e Filial, contando os clientes únicos\n",
    "df_clientes_unicos = vendas.groupby(['MES_NUM', 'FILIAL'])['CLI_CPF'].nunique().reset_index()\n",
    "df_clientes_unicos['MES_NOME'] = df_clientes_unicos['MES_NUM'].map(mes_map)\n",
    "\n",
    "#2. Geração do Gráfico \n",
    "plt.figure(figsize=(14, 7))\n",
    "ax = sns.barplot(\n",
    "    data=df_clientes_unicos,\n",
    "    x='MES_NOME',\n",
    "    y='CLI_CPF', # Esta é a coluna com a contagem de clientes\n",
    "    hue='FILIAL',\n",
    "    order=meses_ordenados,\n",
    "    palette='muted'\n",
    ")\n",
    "\n",
    "#3. Formatação e Rótulos\n",
    "ax.set_title('Número de Clientes Únicos por Mês e Filial (2024)', fontsize=16)\n",
    "ax.set_xlabel('Mês', fontsize=12)\n",
    "ax.set_ylabel('Número de Clientes Únicos', fontsize=12)\n",
    "\n",
    "# Formatar o eixo Y para 'K' (milhares)\n",
    "formatter_k_int = ticker.FuncFormatter(lambda x, p: f'{x/1000:.0f}K')\n",
    "ax.yaxis.set_major_formatter(formatter_k_int)\n",
    "\n",
    "# Adicionar rótulos de dados (contagem exata)\n",
    "for p in ax.patches:\n",
    "    ax.annotate(f'{p.get_height():.0f}', # Formato inteiro\n",
    "                   (p.get_x() + p.get_width() / 2., p.get_height()),\n",
    "                   ha = 'center', va = 'center',\n",
    "                   xytext = (0, 9),\n",
    "                   textcoords = 'offset points',\n",
    "                   fontsize=9)\n",
    "\n",
    "ax.legend(title='Filial', loc='upper left')\n",
    "\n",
    "#4. Salvamento \n",
    "plt.tight_layout()\n",
    "plt.savefig('../graphics/clientes_unicos_mensal_agrupado.png')\n",
    "plt.show()\n",
    "plt.close()"
   ]
  },
  {
   "cell_type": "markdown",
   "id": "9feb0b3b",
   "metadata": {},
   "source": [
    "### 4.3. Análise da qualidade dos dados de cliente\n",
    "\n",
    "Vamos ver se todas as compras registradas tem o CPF do cliente comprador associado ao produto vendido"
   ]
  },
  {
   "cell_type": "code",
   "execution_count": null,
   "id": "dd9cd7cf",
   "metadata": {},
   "outputs": [],
   "source": [
    "nan_count_CPF = vendas['CLI_CPF'].isna().sum()\n",
    "print(f\"Número de valores ausentes na coluna 'CLI_CPF': {nan_count_CPF}\")"
   ]
  },
  {
   "cell_type": "markdown",
   "id": "559a5c1d",
   "metadata": {},
   "source": [
    "Devido a informação de que todos as vendas da loja incluem a vinculação ao CPF do cliente, podemos extrair informações importantes sobre a persona dos compradores da VAI Store"
   ]
  },
  {
   "cell_type": "code",
   "execution_count": null,
   "id": "7b08977c",
   "metadata": {},
   "outputs": [],
   "source": [
    "vendas.head()"
   ]
  }
 ],
 "metadata": {
  "kernelspec": {
   "display_name": ".venv (3.10.12)",
   "language": "python",
   "name": "python3"
  },
  "language_info": {
   "codemirror_mode": {
    "name": "ipython",
    "version": 3
   },
   "file_extension": ".py",
   "mimetype": "text/x-python",
   "name": "python",
   "nbconvert_exporter": "python",
   "pygments_lexer": "ipython3",
   "version": "3.10.12"
  }
 },
 "nbformat": 4,
 "nbformat_minor": 5
}
