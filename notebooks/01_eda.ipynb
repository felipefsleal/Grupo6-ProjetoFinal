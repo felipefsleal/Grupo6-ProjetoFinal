{
 "cells": [
  {
   "cell_type": "markdown",
   "id": "35ab9a50",
   "metadata": {},
   "source": [
    "# <center> VAI Store - Análise Exploratória de Dados </center>\n",
    "\n",
    "---\n",
    "\n",
    "Nesse jupyter notebook iremos analisar os dados de produtos e vendas da VAI Store"
   ]
  },
  {
   "cell_type": "markdown",
   "id": "e7c89924",
   "metadata": {},
   "source": [
    "## 1. Imports"
   ]
  },
  {
   "cell_type": "code",
   "execution_count": null,
   "id": "9cb83475",
   "metadata": {},
   "outputs": [],
   "source": [
    "import pandas as pd\n",
    "import matplotlib.pyplot as plt\n",
    "import seaborn as sns\n",
    "import matplotlib.ticker as ticker\n",
    "import importlib"
   ]
  },
  {
   "cell_type": "code",
   "execution_count": null,
   "id": "5880c11e",
   "metadata": {},
   "outputs": [],
   "source": [
    "from pathlib import Path\n",
    "import sys\n",
    "\n",
    "sys.path.insert(0, str(Path.cwd().parent / 'src' / 'plots'))\n",
    "sys.path.insert(0, str(Path.cwd().parent / 'src' / 'utils'))"
   ]
  },
  {
   "cell_type": "markdown",
   "id": "b3d87af5",
   "metadata": {},
   "source": [
    "## 2. Dataset"
   ]
  },
  {
   "cell_type": "code",
   "execution_count": null,
   "id": "32be945a",
   "metadata": {},
   "outputs": [],
   "source": [
    "produtos = pd.read_csv('../data/raw/produto.csv', index_col = 0)\n",
    "\n",
    "# Leitura dos dados\n",
    "produtos.info()\n",
    "produtos.head()"
   ]
  },
  {
   "cell_type": "markdown",
   "id": "04c1bb61",
   "metadata": {},
   "source": [
    "Sumário das colunas:\n",
    "* SKU = Código do produto \n",
    "* NOME_PRODUTO = Descrição do produto \n",
    "* CATEGORIA = Categoria do produto \n",
    "* SUBCATEGORIA = Subcategoria do produto"
   ]
  },
  {
   "cell_type": "code",
   "execution_count": null,
   "id": "49b82c84",
   "metadata": {},
   "outputs": [],
   "source": [
    "vendas = pd.read_csv('../data/raw/vendas.csv', index_col = 0)\n",
    "\n",
    "# Leitura dos dados\n",
    "vendas.info()\n",
    "vendas.head()"
   ]
  },
  {
   "cell_type": "markdown",
   "id": "7be3171c",
   "metadata": {},
   "source": [
    "Sumário das colunas:\n",
    "* COD_ATEND = Código identificador do atendimento \n",
    "* COD_VENDA = Código identificador da venda \n",
    "* COD_FILIAL = Indica em qual loja foi feito o atendimento \n",
    "* FILIAL = Tipo de filial (Loja de Rua ou de Shopping) \n",
    "* DATA_ATEND = Data de atendimento daquele cliente a respeito daquele produto \n",
    "* SKU = Código do produto \n",
    "* UNID = Indica tipo do produto (granel ou prateleira) \n",
    "* QTD_VENDA = Quantidade vendida do produto \n",
    "* FATUR_VENDA  = Faturamento \n",
    "* CLI_CPF = Código do cliente"
   ]
  },
  {
   "cell_type": "code",
   "execution_count": null,
   "id": "582b0872",
   "metadata": {},
   "outputs": [],
   "source": [
    "produtos.shape"
   ]
  },
  {
   "cell_type": "markdown",
   "id": "e5003c01",
   "metadata": {},
   "source": [
    "## 3. Tratamento"
   ]
  },
  {
   "cell_type": "markdown",
   "id": "b7599ed0",
   "metadata": {},
   "source": [
    "### 3.1. Tratamento de valores ausentes"
   ]
  },
  {
   "cell_type": "code",
   "execution_count": null,
   "id": "8c1e2cd3",
   "metadata": {},
   "outputs": [],
   "source": [
    "vendas.isna().sum()"
   ]
  },
  {
   "cell_type": "code",
   "execution_count": null,
   "id": "edb26ab9",
   "metadata": {},
   "outputs": [],
   "source": [
    "produtos.isna().sum()"
   ]
  },
  {
   "cell_type": "markdown",
   "id": "5028f9f3",
   "metadata": {},
   "source": [
    "Observa-se que, no dataset de **produtos**, há a presença de valores nulos em todas as colunas. Sendo assim, vamos analisar caso a caso."
   ]
  },
  {
   "cell_type": "markdown",
   "id": "a7f52e7f",
   "metadata": {},
   "source": [
    "#### 3.1.1. CATEGORIA e SUBCATEGORIA\n",
    "\n",
    "Para essas colunas categóricas, vamos substituir os valores ausentes por um novo tipo: **'Sem categoria'** e **'Sem subcategoria'**."
   ]
  },
  {
   "cell_type": "code",
   "execution_count": null,
   "id": "cab21ef5",
   "metadata": {},
   "outputs": [],
   "source": [
    "produtos['CATEGORIA'] = produtos['CATEGORIA'].fillna('Sem categoria')\n",
    "produtos['SUBCATEGORIA'] = produtos['SUBCATEGORIA'].fillna('Sem subcategoria')"
   ]
  },
  {
   "cell_type": "markdown",
   "id": "3d861b4f",
   "metadata": {},
   "source": [
    "#### 3.1.2. NOME_PRODUTO"
   ]
  },
  {
   "cell_type": "code",
   "execution_count": null,
   "id": "261a503e",
   "metadata": {},
   "outputs": [],
   "source": [
    "produtos[produtos['NOME_PRODUTO'].isna()]"
   ]
  },
  {
   "cell_type": "markdown",
   "id": "52f9bd24",
   "metadata": {},
   "source": [
    "Nesse caso, a linha é constituída apenas de valores nulos e, além disso, não há a possibilidade desse produto ter um relacionamento com alguma venda. Sendo assim, vamos simplesmente **remover** essa observação."
   ]
  },
  {
   "cell_type": "code",
   "execution_count": null,
   "id": "64688f7f",
   "metadata": {},
   "outputs": [],
   "source": [
    "produtos.dropna(inplace=True)"
   ]
  },
  {
   "cell_type": "code",
   "execution_count": null,
   "id": "af736da3",
   "metadata": {},
   "outputs": [],
   "source": [
    "# Quantidade de valores nulos pós tratamento\n",
    "produtos.isna().sum()"
   ]
  },
  {
   "cell_type": "markdown",
   "id": "5dc3ba8f",
   "metadata": {},
   "source": [
    "### 3.2. Conversão dos tipos de dados"
   ]
  },
  {
   "cell_type": "code",
   "execution_count": null,
   "id": "1a19a5f9",
   "metadata": {},
   "outputs": [],
   "source": [
    "# Conversão de COD_FILIAL e SKU (vendas) para str\n",
    "vendas['COD_FILIAL'] = vendas['COD_FILIAL'].astype(str)\n",
    "vendas['SKU'] = vendas['SKU'].astype(str)\n",
    "\n",
    "# Conversão de SKU (produtos) para str\n",
    "produtos.index = produtos.index.astype(int).astype(str)\n",
    "\n",
    "# Conversão de DATA_ATEND para 'date'\n",
    "vendas['DATA_ATEND'] = pd.to_datetime(vendas['DATA_ATEND'])"
   ]
  },
  {
   "cell_type": "markdown",
   "id": "688d5e0d",
   "metadata": {},
   "source": [
    "### 3.3. Limpeza de strings"
   ]
  },
  {
   "cell_type": "markdown",
   "id": "e1417d15",
   "metadata": {},
   "source": [
    "Na coluna NOME_PRODUTO, os valores possuem espaços em branco após o último caracter. Por isso, vamos remover essas lacunas."
   ]
  },
  {
   "cell_type": "code",
   "execution_count": null,
   "id": "9977a126",
   "metadata": {},
   "outputs": [],
   "source": [
    "produtos['NOME_PRODUTO'] = produtos['NOME_PRODUTO'].str.strip()"
   ]
  },
  {
   "cell_type": "code",
   "execution_count": null,
   "id": "c701c111",
   "metadata": {},
   "outputs": [],
   "source": [
    "# Nome dos produtos após tratamento\n",
    "produtos['NOME_PRODUTO']"
   ]
  },
  {
   "cell_type": "code",
   "execution_count": null,
   "id": "0e8fbcf0",
   "metadata": {},
   "outputs": [],
   "source": [
    "vendas.head()"
   ]
  },
  {
   "cell_type": "code",
   "execution_count": null,
   "id": "395caa28",
   "metadata": {},
   "outputs": [],
   "source": [
    "produtos.head()"
   ]
  },
  {
   "cell_type": "markdown",
   "id": "8177a94e",
   "metadata": {},
   "source": [
    "## 4. EDA"
   ]
  },
  {
   "cell_type": "markdown",
   "id": "f1220963",
   "metadata": {},
   "source": [
    "### 4.1. Análise do desempenho de vendas e faturamento\n",
    "\n",
    "Primeiro, vamos fazer a análise exploratória dos dados voltado para as **vendas** e **faturamento**. Podemos começar entendendo o faturamento total e a variação dele ao longo dos meses de 2024."
   ]
  },
  {
   "cell_type": "code",
   "execution_count": null,
   "id": "258df8f9",
   "metadata": {},
   "outputs": [],
   "source": [
    "# Importação das funções de plotagem\n",
    "import plot_faturamento_filial as pff\n",
    "import plots_faturamento as pf\n",
    "\n",
    "# Atualização dos módulos na cache\n",
    "importlib.reload(pff)\n",
    "importlib.reload(pf)"
   ]
  },
  {
   "cell_type": "code",
   "execution_count": null,
   "id": "a3e52862",
   "metadata": {},
   "outputs": [],
   "source": [
    "vendas_2024 = vendas.loc[vendas['DATA_ATEND'].dt.year == 2024]\n",
    "\n",
    "faturamento = vendas_2024['FATUR_VENDA'].sum()\n",
    "\n",
    "faturamento_formatado = f\"R$ {faturamento:,.2f}\".replace(\",\", \"X\").replace(\".\", \",\").replace(\"X\", \".\")\n",
    "print(f\"Faturamento Total de 2024: {faturamento_formatado}\")"
   ]
  },
  {
   "cell_type": "markdown",
   "id": "6ddae88a",
   "metadata": {},
   "source": [
    "Agora, podemos analisar a distribuição desse faturamento pelos **meses do ano**."
   ]
  },
  {
   "cell_type": "code",
   "execution_count": null,
   "id": "c266c7f0",
   "metadata": {},
   "outputs": [],
   "source": [
    "pf.faturamento_mensal(vendas)"
   ]
  },
  {
   "cell_type": "markdown",
   "id": "69942b11",
   "metadata": {},
   "source": [
    "A análise do faturamento mensal revela um padrão de **sazonalidade**, com os meses de Março, Novembro e Dezembro se destacando como possíveis __outliers__. Sendo assim, vamos criar um array com seus respectivos índices para manipular esses outliers posteriormente."
   ]
  },
  {
   "cell_type": "code",
   "execution_count": null,
   "id": "a2159c20",
   "metadata": {},
   "outputs": [],
   "source": [
    "meses_outliers = [3, 11, 12]"
   ]
  },
  {
   "cell_type": "markdown",
   "id": "02be5910",
   "metadata": {},
   "source": [
    "#### Análise do faturamento por filiais"
   ]
  },
  {
   "cell_type": "markdown",
   "id": "3f9c458c",
   "metadata": {},
   "source": [
    "Agora, vamos analisar a distribuição do faturamento total da loja em suas filiais."
   ]
  },
  {
   "cell_type": "code",
   "execution_count": null,
   "id": "e133fece",
   "metadata": {},
   "outputs": [],
   "source": [
    "pff.plot_faturamento_total_filial(vendas)"
   ]
  },
  {
   "cell_type": "markdown",
   "id": "a0b54e2d",
   "metadata": {},
   "source": [
    "Fica perceptível que há uma diferença de faturamento entre as filiais, então vamos destrinchar essa receita um pouco mais para chegar no fator motor dessa discrepância."
   ]
  },
  {
   "cell_type": "code",
   "execution_count": null,
   "id": "9ad1199b",
   "metadata": {},
   "outputs": [],
   "source": [
    "pff.plot_faturamento_mensal_filial(vendas)"
   ]
  },
  {
   "cell_type": "markdown",
   "id": "90c74703",
   "metadata": {},
   "source": [
    "Podemos ver claramente que os meses que moveram a diferença de faturamento entre as filiais foram, novamento, os outliers observados anteriormente (Março, Novembro e Dezembro). Será que nesses meses houve uma diferença no ticket médio do cliente que influênciou a divergência de receita?"
   ]
  },
  {
   "cell_type": "code",
   "execution_count": null,
   "id": "02feceac",
   "metadata": {},
   "outputs": [],
   "source": [
    "pff.plot_faturamento_e_ticket_medio_mensal(vendas)"
   ]
  },
  {
   "cell_type": "markdown",
   "id": "d526eef4",
   "metadata": {},
   "source": [
    "Podemos ver no gráfico acima que o faturamento da loja está correlacionado ao seu ticket médio e, justamente nos meses que o faturamento do Shopping foi bem maior que o faturamento da Rua, o ticket médio entre as filiais foi mais discrepante. Por isso, quero entender quais são os fatores que movem essa diferênça de ticket médio."
   ]
  },
  {
   "cell_type": "code",
   "execution_count": null,
   "id": "665b519c",
   "metadata": {},
   "outputs": [],
   "source": [
    "pff.plot_clientes_unicos_mensal_filial(vendas)"
   ]
  },
  {
   "cell_type": "markdown",
   "id": "ab53a500",
   "metadata": {},
   "source": [
    "Com o número de clientes únicos por loja podemos ver que normalmente não há uma grande diferença entre o número de clientes que compra em cada loja. Contudo, os meses de Março e Novembro foram contra essa máxima, tendo uma quantidade considerável a mais de clientes passando pela loja do Shopping do que pela loja da Rua, talvez sendo um dos fatores que moveu a diferença do faturamento entre as filiais nesses meses."
   ]
  },
  {
   "cell_type": "markdown",
   "id": "a80324cc",
   "metadata": {},
   "source": [
    "### 4.2. Análise das vendas de produtos\n",
    "\n",
    "Agora, vamos entender como o faturamento e quantidade de vendas da loja estão distribuídos entre os produtos e suas categorias/subcategorias. Portanto, vamos plotar as **top** categorias mais vendidas em 2024."
   ]
  },
  {
   "cell_type": "code",
   "execution_count": null,
   "id": "1918712e",
   "metadata": {},
   "outputs": [],
   "source": [
    "import merge_datasets as md\n",
    "\n",
    "importlib.reload(md)"
   ]
  },
  {
   "cell_type": "code",
   "execution_count": null,
   "id": "ff2c00d0",
   "metadata": {},
   "outputs": [],
   "source": [
    "df_agg = md.merge_datasets(vendas, produtos, 'SKU')"
   ]
  },
  {
   "cell_type": "markdown",
   "id": "22c333fb",
   "metadata": {},
   "source": [
    "#### Análise da sazonalidade de produtos\n",
    "\n",
    "Dado as principais categorias vendidas, podemos observar quais as mais vendidas nos meses outliers observados no tópico **4.1.** e analisar se há alguma diferença."
   ]
  },
  {
   "cell_type": "markdown",
   "id": "2258875e",
   "metadata": {},
   "source": [
    "### 4.3. Análise do catálogo de produtos\n",
    "\n",
    "Agora vamos entender quais as **principais categorias de produtos** vendidos pela VAI Store"
   ]
  },
  {
   "cell_type": "code",
   "execution_count": null,
   "id": "2ac62a72",
   "metadata": {},
   "outputs": [],
   "source": [
    "# Importação das funções de plotagem\n",
    "import plots_catalogo_produtos as pc\n",
    "\n",
    "importlib.reload(pc)"
   ]
  },
  {
   "cell_type": "code",
   "execution_count": null,
   "id": "7065a289",
   "metadata": {},
   "outputs": [],
   "source": [
    "# Plotar o Top 10 Categorias\n",
    "pc.plot_top_10_categorias(produtos)"
   ]
  },
  {
   "cell_type": "markdown",
   "id": "1c74e2c6",
   "metadata": {},
   "source": [
    "Após conhecer as principais categorias de produtos vamos analisar as **principais subcategorias**"
   ]
  },
  {
   "cell_type": "code",
   "execution_count": null,
   "id": "ed73d15a",
   "metadata": {},
   "outputs": [],
   "source": [
    "# Plotar o Top 10 Subcategorias\n",
    "pc.plot_top_10_subcategorias(produtos)"
   ]
  },
  {
   "cell_type": "markdown",
   "id": "9d66eabe",
   "metadata": {},
   "source": [
    "Diante as informações acima podemos entender como o pool de produtos da VAI Store está estruturado atualmente"
   ]
  },
  {
   "cell_type": "markdown",
   "id": "c6191b3c",
   "metadata": {},
   "source": [
    "#### Análise da sazonalidade de produtos\n",
    "\n",
    "Dado as principais categorias vendidas, podemos observar quais as mais vendidas nos meses outliers observados no tópico **4.1.** e analisar se há alguma diferença."
   ]
  },
  {
   "cell_type": "markdown",
   "id": "95e11d1e",
   "metadata": {},
   "source": [
    "### 4.3 Análise da sazonalidade de produtos"
   ]
  },
  {
   "cell_type": "markdown",
   "id": "75cfdc56",
   "metadata": {},
   "source": [
    "Continuando com o estudo da diferença de faturamento entre as filiais, queremos agora entender como a venda dos produtos está impactando essa discrepância de receita"
   ]
  },
  {
   "cell_type": "markdown",
   "id": "9feb0b3b",
   "metadata": {},
   "source": [
    "### 4.4. Análise da qualidade dos dados de cliente\n",
    "\n",
    "Vamos ver se todas as compras registradas tem o CPF do cliente comprador associado ao produto vendido"
   ]
  },
  {
   "cell_type": "code",
   "execution_count": null,
   "id": "dd9cd7cf",
   "metadata": {},
   "outputs": [],
   "source": [
    "nan_count_CPF = vendas['CLI_CPF'].isna().sum()\n",
    "print(f\"Número de valores ausentes na coluna 'CLI_CPF': {nan_count_CPF}\")"
   ]
  },
  {
   "cell_type": "markdown",
   "id": "559a5c1d",
   "metadata": {},
   "source": [
    "Devido a informação de que todos as vendas da loja incluem a vinculação ao CPF do cliente, podemos extrair informações importantes sobre a persona dos compradores da VAI Store"
   ]
  },
  {
   "cell_type": "code",
   "execution_count": null,
   "id": "7b08977c",
   "metadata": {},
   "outputs": [],
   "source": [
    "vendas.head()"
   ]
  }
 ],
 "metadata": {
  "kernelspec": {
   "display_name": ".venv (3.10.12)",
   "language": "python",
   "name": "python3"
  },
  "language_info": {
   "codemirror_mode": {
    "name": "ipython",
    "version": 3
   },
   "file_extension": ".py",
   "mimetype": "text/x-python",
   "name": "python",
   "nbconvert_exporter": "python",
   "pygments_lexer": "ipython3",
   "version": "3.10.12"
  }
 },
 "nbformat": 4,
 "nbformat_minor": 5
}
