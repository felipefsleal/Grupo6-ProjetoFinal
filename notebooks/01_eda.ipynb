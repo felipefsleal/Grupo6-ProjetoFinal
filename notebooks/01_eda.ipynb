{
 "cells": [
  {
   "cell_type": "markdown",
   "id": "35ab9a50",
   "metadata": {},
   "source": [
    "<h1> EDA"
   ]
  },
  {
   "cell_type": "markdown",
   "id": "0955e163",
   "metadata": {},
   "source": [
    "<h3> Nesse jupyter notebook iremos analisar os dados de produtos e vendas da Vai Store"
   ]
  },
  {
   "cell_type": "markdown",
   "id": "e7c89924",
   "metadata": {},
   "source": [
    "Primeiro vamos começar importando as bibliotecas que serão utilizadas ao longo do projeto"
   ]
  },
  {
   "cell_type": "code",
   "execution_count": 9,
   "id": "9cb83475",
   "metadata": {},
   "outputs": [],
   "source": [
    "import pandas as pd\n",
    "import matplotlib.pyplot as plt"
   ]
  },
  {
   "cell_type": "markdown",
   "id": "b3d87af5",
   "metadata": {},
   "source": [
    "<h2> Produto"
   ]
  },
  {
   "cell_type": "markdown",
   "id": "e46a16df",
   "metadata": {},
   "source": [
    "Vamos começar a nossa análise exploratória dos dados com o **produto**"
   ]
  },
  {
   "cell_type": "code",
   "execution_count": null,
   "id": "32be945a",
   "metadata": {},
   "outputs": [
    {
     "name": "stderr",
     "output_type": "stream",
     "text": [
      "<>:1: SyntaxWarning: invalid escape sequence '\\p'\n",
      "<>:1: SyntaxWarning: invalid escape sequence '\\p'\n",
      "C:\\Users\\felip\\AppData\\Local\\Temp\\ipykernel_2000\\3475921097.py:1: SyntaxWarning: invalid escape sequence '\\p'\n",
      "  produtos = pd.read_csv('Dados Projeto\\produto.csv', index_col = 0)\n"
     ]
    }
   ],
   "source": [
    "produtos = pd.read_csv('../data/raw/produto.csv', index_col = 0)"
   ]
  },
  {
   "cell_type": "code",
   "execution_count": 11,
   "id": "2f8e2223",
   "metadata": {},
   "outputs": [
    {
     "data": {
      "text/html": [
       "<div>\n",
       "<style scoped>\n",
       "    .dataframe tbody tr th:only-of-type {\n",
       "        vertical-align: middle;\n",
       "    }\n",
       "\n",
       "    .dataframe tbody tr th {\n",
       "        vertical-align: top;\n",
       "    }\n",
       "\n",
       "    .dataframe thead th {\n",
       "        text-align: right;\n",
       "    }\n",
       "</style>\n",
       "<table border=\"1\" class=\"dataframe\">\n",
       "  <thead>\n",
       "    <tr style=\"text-align: right;\">\n",
       "      <th></th>\n",
       "      <th>NOME_PRODUTO</th>\n",
       "      <th>CATEGORIA</th>\n",
       "      <th>SUBCATEGORIA</th>\n",
       "    </tr>\n",
       "    <tr>\n",
       "      <th>SKU</th>\n",
       "      <th></th>\n",
       "      <th></th>\n",
       "      <th></th>\n",
       "    </tr>\n",
       "  </thead>\n",
       "  <tbody>\n",
       "    <tr>\n",
       "      <th>3.0</th>\n",
       "      <td>COCO RALADO GROSSO KG                         ...</td>\n",
       "      <td>Doceria</td>\n",
       "      <td>Confeitaria</td>\n",
       "    </tr>\n",
       "    <tr>\n",
       "      <th>4.0</th>\n",
       "      <td>ICE TEA LEAO LATA 340ML                       ...</td>\n",
       "      <td>NaN</td>\n",
       "      <td>NaN</td>\n",
       "    </tr>\n",
       "    <tr>\n",
       "      <th>5.0</th>\n",
       "      <td>TAHINE ISTAMBUL 200G                          ...</td>\n",
       "      <td>Pelo Mundo</td>\n",
       "      <td>Pastas Árabes</td>\n",
       "    </tr>\n",
       "    <tr>\n",
       "      <th>6.0</th>\n",
       "      <td>AMENDOIM MOIDO KG                             ...</td>\n",
       "      <td>Castanhas &amp; Oleaginosas</td>\n",
       "      <td>Oleaginosas moídas</td>\n",
       "    </tr>\n",
       "    <tr>\n",
       "      <th>7.0</th>\n",
       "      <td>HALAWI ISTAMBUL LATA 500G                     ...</td>\n",
       "      <td>Pelo Mundo</td>\n",
       "      <td>Pastas Árabes</td>\n",
       "    </tr>\n",
       "  </tbody>\n",
       "</table>\n",
       "</div>"
      ],
      "text/plain": [
       "                                          NOME_PRODUTO  \\\n",
       "SKU                                                      \n",
       "3.0  COCO RALADO GROSSO KG                         ...   \n",
       "4.0  ICE TEA LEAO LATA 340ML                       ...   \n",
       "5.0  TAHINE ISTAMBUL 200G                          ...   \n",
       "6.0  AMENDOIM MOIDO KG                             ...   \n",
       "7.0  HALAWI ISTAMBUL LATA 500G                     ...   \n",
       "\n",
       "                   CATEGORIA        SUBCATEGORIA  \n",
       "SKU                                               \n",
       "3.0                  Doceria         Confeitaria  \n",
       "4.0                      NaN                 NaN  \n",
       "5.0               Pelo Mundo       Pastas Árabes  \n",
       "6.0  Castanhas & Oleaginosas  Oleaginosas moídas  \n",
       "7.0               Pelo Mundo       Pastas Árabes  "
      ]
     },
     "execution_count": 11,
     "metadata": {},
     "output_type": "execute_result"
    }
   ],
   "source": [
    "produtos.head()"
   ]
  },
  {
   "cell_type": "markdown",
   "id": "04c1bb61",
   "metadata": {},
   "source": [
    "Sumário das colunas:\n",
    "* SKU = Código do produto \n",
    "* NOME_PRODUTO = Descrição do produto \n",
    "* CATEGORIA = Categoria do produto \n",
    "* SUBCATEGORIA = Subcategoria do produto"
   ]
  },
  {
   "cell_type": "markdown",
   "id": "3df739f5",
   "metadata": {},
   "source": [
    "Vamos entender qual o número de diferentes produtos que a VAI Store vende"
   ]
  },
  {
   "cell_type": "code",
   "execution_count": 12,
   "id": "582b0872",
   "metadata": {},
   "outputs": [
    {
     "data": {
      "text/plain": [
       "(6500, 3)"
      ]
     },
     "execution_count": 12,
     "metadata": {},
     "output_type": "execute_result"
    }
   ],
   "source": [
    "produtos.shape"
   ]
  },
  {
   "cell_type": "markdown",
   "id": "767f4fbe",
   "metadata": {},
   "source": [
    "São 6500 produtos diferentes vendidos. (Vale via código comprovar que não tem nenhum produto duplicado com o mesmo nome)"
   ]
  },
  {
   "cell_type": "markdown",
   "id": "35392eb1",
   "metadata": {},
   "source": [
    "Podemos observar que na coluna identificada como **NOME_PRODUTO** temos o nome que o representa e também a unidade de massa ou volume em que ele é vendido. Podemos subdividir essa coluna em **NOME_PRODUTO** e **UNIDADE_VENDA** para depois poder trabalhar com esse dado de unidades."
   ]
  },
  {
   "cell_type": "markdown",
   "id": "d4bcfb70",
   "metadata": {},
   "source": [
    "<h2> Vendas"
   ]
  },
  {
   "cell_type": "markdown",
   "id": "7de1ad0a",
   "metadata": {},
   "source": [
    "Agora vamos fazer a análise exploratória dos dados para as **vendas**"
   ]
  },
  {
   "cell_type": "code",
   "execution_count": null,
   "id": "aeda458a",
   "metadata": {},
   "outputs": [],
   "source": [
    "vendas = pd.read_csv('../data/raw/vendas.csv', index_col = 0, )"
   ]
  },
  {
   "cell_type": "code",
   "execution_count": 17,
   "id": "2cdce351",
   "metadata": {},
   "outputs": [
    {
     "data": {
      "text/html": [
       "<div>\n",
       "<style scoped>\n",
       "    .dataframe tbody tr th:only-of-type {\n",
       "        vertical-align: middle;\n",
       "    }\n",
       "\n",
       "    .dataframe tbody tr th {\n",
       "        vertical-align: top;\n",
       "    }\n",
       "\n",
       "    .dataframe thead th {\n",
       "        text-align: right;\n",
       "    }\n",
       "</style>\n",
       "<table border=\"1\" class=\"dataframe\">\n",
       "  <thead>\n",
       "    <tr style=\"text-align: right;\">\n",
       "      <th></th>\n",
       "      <th>COD_VENDA</th>\n",
       "      <th>COD_FILIAL</th>\n",
       "      <th>FILIAL</th>\n",
       "      <th>DATA_ATEND</th>\n",
       "      <th>SKU</th>\n",
       "      <th>UNID</th>\n",
       "      <th>QTD_VENDA</th>\n",
       "      <th>FATUR_VENDA</th>\n",
       "      <th>CLI_CPF</th>\n",
       "    </tr>\n",
       "    <tr>\n",
       "      <th>COD_ATEND</th>\n",
       "      <th></th>\n",
       "      <th></th>\n",
       "      <th></th>\n",
       "      <th></th>\n",
       "      <th></th>\n",
       "      <th></th>\n",
       "      <th></th>\n",
       "      <th></th>\n",
       "      <th></th>\n",
       "    </tr>\n",
       "  </thead>\n",
       "  <tbody>\n",
       "    <tr>\n",
       "      <th>000304564.299.0101042.20240102</th>\n",
       "      <td>000304564.299.0101042.20240102.000009.02</td>\n",
       "      <td>101042</td>\n",
       "      <td>SHOPPING</td>\n",
       "      <td>2024-01-02</td>\n",
       "      <td>9</td>\n",
       "      <td>KG</td>\n",
       "      <td>0.258</td>\n",
       "      <td>18.04</td>\n",
       "      <td>ec0abf3f4220</td>\n",
       "    </tr>\n",
       "    <tr>\n",
       "      <th>000374698.258.0101032.20240102</th>\n",
       "      <td>000374698.258.0101032.20240102.000009.10</td>\n",
       "      <td>101032</td>\n",
       "      <td>RUA</td>\n",
       "      <td>2024-01-02</td>\n",
       "      <td>9</td>\n",
       "      <td>KG</td>\n",
       "      <td>0.064</td>\n",
       "      <td>4.50</td>\n",
       "      <td>83d596ee0acf</td>\n",
       "    </tr>\n",
       "    <tr>\n",
       "      <th>000383551.256.0101032.20240102</th>\n",
       "      <td>000383551.256.0101032.20240102.000009.02</td>\n",
       "      <td>101032</td>\n",
       "      <td>RUA</td>\n",
       "      <td>2024-01-02</td>\n",
       "      <td>9</td>\n",
       "      <td>KG</td>\n",
       "      <td>0.164</td>\n",
       "      <td>11.49</td>\n",
       "      <td>46f63c18e055</td>\n",
       "    </tr>\n",
       "    <tr>\n",
       "      <th>000383533.256.0101032.20240102</th>\n",
       "      <td>000383533.256.0101032.20240102.000009.02</td>\n",
       "      <td>101032</td>\n",
       "      <td>RUA</td>\n",
       "      <td>2024-01-02</td>\n",
       "      <td>9</td>\n",
       "      <td>KG</td>\n",
       "      <td>0.202</td>\n",
       "      <td>14.13</td>\n",
       "      <td>6def1d35e2fe</td>\n",
       "    </tr>\n",
       "    <tr>\n",
       "      <th>000432095.257.0101032.20240102</th>\n",
       "      <td>000432095.257.0101032.20240102.000051.06</td>\n",
       "      <td>101032</td>\n",
       "      <td>RUA</td>\n",
       "      <td>2024-01-02</td>\n",
       "      <td>51</td>\n",
       "      <td>KG</td>\n",
       "      <td>0.086</td>\n",
       "      <td>6.87</td>\n",
       "      <td>1576e1a36394</td>\n",
       "    </tr>\n",
       "  </tbody>\n",
       "</table>\n",
       "</div>"
      ],
      "text/plain": [
       "                                                               COD_VENDA  \\\n",
       "COD_ATEND                                                                  \n",
       "000304564.299.0101042.20240102  000304564.299.0101042.20240102.000009.02   \n",
       "000374698.258.0101032.20240102  000374698.258.0101032.20240102.000009.10   \n",
       "000383551.256.0101032.20240102  000383551.256.0101032.20240102.000009.02   \n",
       "000383533.256.0101032.20240102  000383533.256.0101032.20240102.000009.02   \n",
       "000432095.257.0101032.20240102  000432095.257.0101032.20240102.000051.06   \n",
       "\n",
       "                                COD_FILIAL    FILIAL  DATA_ATEND  SKU UNID  \\\n",
       "COD_ATEND                                                                    \n",
       "000304564.299.0101042.20240102      101042  SHOPPING  2024-01-02    9   KG   \n",
       "000374698.258.0101032.20240102      101032       RUA  2024-01-02    9   KG   \n",
       "000383551.256.0101032.20240102      101032       RUA  2024-01-02    9   KG   \n",
       "000383533.256.0101032.20240102      101032       RUA  2024-01-02    9   KG   \n",
       "000432095.257.0101032.20240102      101032       RUA  2024-01-02   51   KG   \n",
       "\n",
       "                                QTD_VENDA  FATUR_VENDA       CLI_CPF  \n",
       "COD_ATEND                                                             \n",
       "000304564.299.0101042.20240102      0.258        18.04  ec0abf3f4220  \n",
       "000374698.258.0101032.20240102      0.064         4.50  83d596ee0acf  \n",
       "000383551.256.0101032.20240102      0.164        11.49  46f63c18e055  \n",
       "000383533.256.0101032.20240102      0.202        14.13  6def1d35e2fe  \n",
       "000432095.257.0101032.20240102      0.086         6.87  1576e1a36394  "
      ]
     },
     "execution_count": 17,
     "metadata": {},
     "output_type": "execute_result"
    }
   ],
   "source": [
    "vendas.head()"
   ]
  },
  {
   "cell_type": "markdown",
   "id": "a8967c64",
   "metadata": {},
   "source": [
    "Sumário das colunas:\n",
    "* COD_ATEND = Código identificador do atendimento \n",
    "* COD_VENDA = Código identificador da venda \n",
    "* COD_FILIAL = Indica em qual loja foi feito o atendimento \n",
    "* FILIAL = Tipo de filial (Loja de Rua ou de Shopping) \n",
    "* DATA_ATEND = Data de atendimento daquele cliente a respeito daquele produto \n",
    "* SKU = Código do produto \n",
    "* UNID = Indica tipo do produto (granel ou prateleira) \n",
    "* QTD_VENDA = Quantidade vendida do produto \n",
    "* FATUR_VENDA  = Faturamento \n",
    "* CLI_CPF = Código do cliente"
   ]
  },
  {
   "cell_type": "code",
   "execution_count": 18,
   "id": "dd9cd7cf",
   "metadata": {},
   "outputs": [
    {
     "name": "stdout",
     "output_type": "stream",
     "text": [
      "Número de valores ausentes na coluna 'CLI_CPF': 0\n"
     ]
    }
   ],
   "source": [
    "nan_count_CPF = vendas['CLI_CPF'].isna().sum()\n",
    "print(f\"Número de valores ausentes na coluna 'CLI_CPF': {nan_count_CPF}\")"
   ]
  }
 ],
 "metadata": {
  "kernelspec": {
   "display_name": "Python 3",
   "language": "python",
   "name": "python3"
  },
  "language_info": {
   "codemirror_mode": {
    "name": "ipython",
    "version": 3
   },
   "file_extension": ".py",
   "mimetype": "text/x-python",
   "name": "python",
   "nbconvert_exporter": "python",
   "pygments_lexer": "ipython3",
   "version": "3.12.2"
  }
 },
 "nbformat": 4,
 "nbformat_minor": 5
}
